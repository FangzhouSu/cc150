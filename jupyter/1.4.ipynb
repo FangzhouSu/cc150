{
 "cells": [
  {
   "cell_type": "markdown",
   "metadata": {
    "collapsed": true,
    "pycharm": {
     "is_executing": false,
     "name": "#%%\n"
    }
   },
   "source": [
    "\n",
    "## 题目\n",
    "给定一个字符串,编写一个函数判定其是否为某个回文串的排列之一。回文串是指正反两个方向都一样的单词或短语。排列是指字母的重新排列。回文串不一定是字典当中的单词。\n",
    "\n",
    "示例:\n",
    "输入: Tact Coa\n",
    "\n",
    "输出: True (排列有 \"taco cat\" 、 \"atco cta\" ,等等)\n",
    "\n",
    "## 注解\n",
    "回文的特点，就是从左到右跟从右到左读都是一样的。也就是说，这个字符串是中心对称的。只出现一次的字符串最多只能有一个。其余的字符必须出现两次（左边右边各一次）。\n",
    "\n",
    "词频统计使用字典。"
   ]
  },
  {
   "cell_type": "code",
   "execution_count": 6,
   "metadata": {
    "pycharm": {
     "is_executing": false
    }
   },
   "outputs": [
    {
     "name": "stdout",
     "output_type": "stream",
     "text": [
      "用例通过\n",
      "用例通过\n",
      "用例通过\n",
      "用例通过\n",
      "用例通过\n",
      "用例通过\n",
      "用例通过\n",
      "用例通过\n"
     ]
    }
   ],
   "source": [
    "# coding=utf-8\n",
    "\n",
    "\n",
    "class Solution:\n",
    "\n",
    "    def is_palindrome(self, string):\n",
    "        if string is None or len(string) < 2:\n",
    "            return True\n",
    "        \n",
    "        word_dict = {}\n",
    "        center_count = 0\n",
    "        for item in string:\n",
    "            if item in word_dict:\n",
    "                word_dict[item] += 1\n",
    "                if word_dict[item] == 2:\n",
    "                    center_count -= 1\n",
    "            else:\n",
    "                word_dict[item] = 1\n",
    "                center_count += 1\n",
    "                \n",
    "            if word_dict[item] > 2:\n",
    "                return False\n",
    "            \n",
    "        if center_count > 1:\n",
    "            return False\n",
    "        \n",
    "        return True\n",
    "\n",
    "\n",
    "data_provider = [\n",
    "    ['', True],\n",
    "    ['a', True],\n",
    "    ['aa', True],\n",
    "    ['aba', True],\n",
    "    ['abb', True],\n",
    "    ['abcdefggfedcba', True],\n",
    "    ['abcdefggfedcbaa', False],\n",
    "    ['abcdefggfedcbhi', False],\n",
    "]\n",
    "\n",
    "\n",
    "def run_test():\n",
    "    solution = Solution()\n",
    "    for value in data_provider:\n",
    "        if solution.is_palindrome(value[0]) == value[1]:\n",
    "            print('用例通过')\n",
    "        else:\n",
    "            print('用例不通过')\n",
    "            \n",
    "\n",
    "if __name__ == '__main__':\n",
    "    run_test()\n"
   ]
  }
 ],
 "metadata": {
  "kernelspec": {
   "display_name": "Python 3",
   "language": "python",
   "name": "python3"
  },
  "language_info": {
   "codemirror_mode": {
    "name": "ipython",
    "version": 3
   },
   "file_extension": ".py",
   "mimetype": "text/x-python",
   "name": "python",
   "nbconvert_exporter": "python",
   "pygments_lexer": "ipython3",
   "version": "3.6.9"
  },
  "pycharm": {
   "stem_cell": {
    "cell_type": "raw",
    "metadata": {
     "collapsed": false
    },
    "source": []
   }
  }
 },
 "nbformat": 4,
 "nbformat_minor": 1
}
