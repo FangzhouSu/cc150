{
 "cells": [
  {
   "cell_type": "markdown",
   "metadata": {
    "collapsed": true,
    "pycharm": {
     "is_executing": false,
     "name": "#%%\n"
    }
   },
   "source": [
    "\n",
    "## 题目\n",
    "编写一个方法，将字符串中的空格全部替换为“%20”。假定该字符串尾部有足够的空间存放新增字符串，并且知道字符串的“真实”的长度。（注：用Java实现的话，请使用字符数组实现，以遍直接在数组上操作。）\n",
    "\n",
    "示例：\n",
    "\n",
    "输入：“Mr John Smith”\n",
    "输出：“Mr%20John%20Smith”\n",
    "\n",
    "## 注解\n",
    "首先遍历一次字符串以确定空格数量（扩容量），然后从后往前移动，遇到空格插入“%20”即可。\n",
    "这道题可以看做是数组插入操作的Follow up."
   ]
  },
  {
   "cell_type": "code",
   "execution_count": 2,
   "metadata": {
    "pycharm": {
     "is_executing": false
    }
   },
   "outputs": [
    {
     "name": "stdout",
     "output_type": "stream",
     "text": [
      "用例通过\n",
      "用例通过\n",
      "用例通过\n",
      "用例通过\n",
      "用例通过\n",
      "用例通过\n",
      "用例通过\n"
     ]
    }
   ],
   "source": [
    "# coding=utf-8\n",
    "\n",
    "\n",
    "class Solution:\n",
    "\n",
    "    SPACE_FLAG = ' '\n",
    "\n",
    "    def replace_space(self, temp_str):\n",
    "\n",
    "        if temp_str is None or len(temp_str) == 0:\n",
    "            return temp_str\n",
    "\n",
    "        str_list = list(temp_str)\n",
    "        space_total, str_len = 0, len(temp_str)\n",
    "\n",
    "        for item in str_list:\n",
    "            if item is self.SPACE_FLAG:\n",
    "                space_total += 1\n",
    "\n",
    "        container_size = str_len + space_total * 2\n",
    "        container = [None for i in range(0, container_size)]\n",
    "\n",
    "        i, j = container_size - 1, str_len - 1\n",
    "\n",
    "        while j > -1:\n",
    "            if str_list[j] is self.SPACE_FLAG:\n",
    "                container[i] = '0'\n",
    "                container[i - 1] = '2'\n",
    "                container[i - 2] = '%'\n",
    "\n",
    "                i -= 2\n",
    "            else:\n",
    "                container[i] = str_list[j]\n",
    "\n",
    "            i -= 1\n",
    "            j -= 1\n",
    "\n",
    "        return ''.join(container)\n",
    "\n",
    "\n",
    "data_provider = [\n",
    "    ['', ''],\n",
    "    [' Mr John Smith ', '%20Mr%20John%20Smith%20'],\n",
    "    [' a', '%20a'],\n",
    "    [' ', '%20'],\n",
    "    ['a ', 'a%20'],\n",
    "    ['Mr', 'Mr'],\n",
    "    ['Mr John Smith', 'Mr%20John%20Smith']\n",
    "]\n",
    "\n",
    "\n",
    "def run_test():\n",
    "    solution = Solution()\n",
    "    for value in data_provider:\n",
    "        if solution.replace_space(value[0]) == value[1]:\n",
    "            print('用例通过')\n",
    "        else:\n",
    "            print('用例不通过')\n",
    "            \n",
    "\n",
    "if __name__ == '__main__':\n",
    "    run_test()\n"
   ]
  },
  {
   "cell_type": "code",
   "execution_count": 2,
   "metadata": {
    "pycharm": {
     "is_executing": false
    }
   },
   "outputs": [],
   "source": []
  }
 ],
 "metadata": {
  "kernelspec": {
   "display_name": "Python 3",
   "language": "python",
   "name": "python3"
  },
  "language_info": {
   "codemirror_mode": {
    "name": "ipython",
    "version": 3
   },
   "file_extension": ".py",
   "mimetype": "text/x-python",
   "name": "python",
   "nbconvert_exporter": "python",
   "pygments_lexer": "ipython3",
   "version": "3.6.9"
  },
  "pycharm": {
   "stem_cell": {
    "cell_type": "raw",
    "metadata": {
     "collapsed": false
    },
    "source": []
   }
  }
 },
 "nbformat": 4,
 "nbformat_minor": 1
}
