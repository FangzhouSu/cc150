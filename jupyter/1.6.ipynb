{
 "cells": [
  {
   "cell_type": "markdown",
   "metadata": {
    "pycharm": {
     "is_executing": false
    }
   },
   "source": [
    "# 题目\n",
    "利用字符重复出现的次数,编写一种方法,实现基本的字符串压缩功能。比如,字符串 aabcccccaaa 会变为 a2b1c5a3 。若“压缩”后的字符串没有变短,则返回原先的字符串。你可以假设字符串中只包含大小写英文字母(a 至 z)\n",
    "\n",
    "\n",
    "## 注解\n",
    "这道题没有什么技巧可言了，按照题意实现就行了。遍历字符串，如果下一个字符跟当前字符相同，字符计数加１。否则以下一个字符为准重新计数。然后按字符 字符的个数形式返回。遍历字符串时要防止下标越界。将字符按是否相同切割，然后切割后的子字符串统计字符串长度。"
   ]
  },
  {
   "cell_type": "code",
   "execution_count": 20,
   "metadata": {},
   "outputs": [
    {
     "name": "stdout",
     "output_type": "stream",
     "text": [
      "用例通过\n",
      "用例通过\n",
      "用例通过\n",
      "用例通过\n",
      "用例通过\n"
     ]
    }
   ],
   "source": [
    "#!/usr/bin/python3\n",
    "# coding=utf-8\n",
    "\n",
    "\n",
    "class Solution:\n",
    "\n",
    "    def compress_string(self, string):\n",
    "        if string is None or len(string) < 3:\n",
    "            return string\n",
    "        \n",
    "        result = ''\n",
    "        slow, fast = 0, 0\n",
    "        while fast < len(string):\n",
    "            if string[slow] != string[fast]:\n",
    "                rest_str = string[slow:fast]\n",
    "                result += self.count_string(rest_str)\n",
    "                slow = fast\n",
    "                \n",
    "            fast += 1\n",
    "        \n",
    "        # todo: 把这最后这部分统一起来，特殊逻辑的形式不太好\n",
    "        if slow != fast:\n",
    "            rest_str = string[slow:fast]\n",
    "            result += self.count_string(rest_str)\n",
    "            \n",
    "        if len(string) > len(result):\n",
    "            return result\n",
    "        return string\n",
    "    \n",
    "    def count_string(self, string):\n",
    "         return string[0] + str(len(string))\n",
    "    \n",
    "\n",
    "\n",
    "test_case = [\n",
    "    ['', ''],\n",
    "    ['a', 'a'],\n",
    "    ['aa', 'aa'],\n",
    "    ['aaa', 'a3'],\n",
    "    ['aabcccccaaa', 'a2b1c5a3']\n",
    "]\n",
    "\n",
    "\n",
    "def run_test():\n",
    "    solution = Solution()\n",
    "    for value in test_case:\n",
    "        if solution.compress_string(value[0]) == value[1]:\n",
    "            print('用例通过')\n",
    "        else:\n",
    "            print('用例不通过')\n",
    "\n",
    "            \n",
    "if __name__ == '__main__':\n",
    "    run_test()"
   ]
  }
 ],
 "metadata": {
  "kernelspec": {
   "display_name": "Python 3",
   "language": "python",
   "name": "python3"
  },
  "language_info": {
   "codemirror_mode": {
    "name": "ipython",
    "version": 3
   },
   "file_extension": ".py",
   "mimetype": "text/x-python",
   "name": "python",
   "nbconvert_exporter": "python",
   "pygments_lexer": "ipython3",
   "version": "3.6.9"
  },
  "pycharm": {
   "stem_cell": {
    "cell_type": "raw",
    "metadata": {
     "collapsed": false
    },
    "source": []
   }
  }
 },
 "nbformat": 4,
 "nbformat_minor": 1
}
