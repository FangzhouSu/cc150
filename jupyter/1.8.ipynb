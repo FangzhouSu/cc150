{
 "cells": [
  {
   "cell_type": "markdown",
   "metadata": {
    "collapsed": true,
    "pycharm": {
     "is_executing": false,
     "name": "#%%\n"
    }
   },
   "source": [
    "\n",
    "## 题目\n",
    "编写一种算法,若 M × N 矩阵中某个元素为 0,则将其所在的行与列清零。\n",
    "\n",
    "\n",
    "## 题解\n",
    "首先暴力解，遍历一次矩阵，把0的坐标记忆下来。然后将0所在的行列清零。\n",
    "用一个M x N的矩阵记忆有些浪费空间了。对我们而言，有用的只是（x，y）坐标键值对。可以使用一个二维数组(或者字典、元祖)。\n",
    "\n",
    "这道题还有Follow up:\n",
    "\n",
    "*这道题在LeetCode上有。[https://leetcode.com/problems/set-matrix-zeroes/description/](https://leetcode.com/problems/set-matrix-zeroes/description/)*\n"
   ]
  },
  {
   "cell_type": "code",
   "execution_count": 4,
   "metadata": {
    "pycharm": {
     "is_executing": false
    }
   },
   "outputs": [
    {
     "name": "stdout",
     "output_type": "stream",
     "text": [
      "用例通过\n",
      "用例通过\n",
      "用例通过\n",
      "用例通过\n",
      "用例通过\n",
      "用例通过\n",
      "用例通过\n"
     ]
    }
   ],
   "source": [
    "# coding=utf-8\n",
    "\n",
    "\n",
    "class Solution(object):\n",
    "\n",
    "    def set_zeroes(self, matrix):\n",
    "        row_len = len(matrix)\n",
    "        if row_len == 0:\n",
    "            return matrix\n",
    "        \n",
    "        if type(matrix[0]) == int:\n",
    "            col_len, row_len = len(matrix), 1\n",
    "        else:\n",
    "            col_len, row_len = len(matrix[0]), len(matrix)\n",
    "        \n",
    "        # 只有一行时，单独处理。\n",
    "        if row_len == 1:\n",
    "            for item in matrix:\n",
    "                if item == 0:\n",
    "                    return [0 for i in range(0, col_len)]\n",
    "            return matrix\n",
    "        \n",
    "        \n",
    "        row = [0 for i in range(0, col_len)]\n",
    "        col = [0 for i in range(0, row_len)]\n",
    "        \n",
    "        for i in range(0, row_len):\n",
    "            for j in range(0, col_len):\n",
    "                if matrix[i][j] == 0:\n",
    "                    col[i] = row[j] = 1\n",
    "                    \n",
    "        for i in range(0, row_len):\n",
    "            for j in range(0, col_len):\n",
    "                if col[i] or row[j]:\n",
    "                    matrix[i][j] = 0\n",
    "        \n",
    "        return matrix\n",
    "\n",
    "\n",
    "data_provider = [\n",
    "    [[], []],\n",
    "    [[0], [0]],\n",
    "    [[1], [1]],\n",
    "    [[1, 2, 3], [1, 2, 3]],\n",
    "    [[1, 2, 3, 0], [0, 0, 0, 0]],\n",
    "    [\n",
    "        [\n",
    "            [1, 2, 3, 0], \n",
    "            [0, 0, 0, 0]\n",
    "        ],\n",
    "        [\n",
    "            [0, 0, 0, 0], \n",
    "            [0, 0, 0, 0]\n",
    "        ]\n",
    "    ],\n",
    "    [\n",
    "        [\n",
    "            [1, 2, 3, 1], \n",
    "            [1, 2, 3, 4]\n",
    "        ],\n",
    "        [\n",
    "            [1, 2, 3, 1], \n",
    "            [1, 2, 3, 4]\n",
    "        ]\n",
    "    ],\n",
    "]\n",
    "\n",
    "\n",
    "def run_test():\n",
    "    solution = Solution()\n",
    "    for value in data_provider:\n",
    "        if solution.set_zeroes(value[0]) == value[1]:\n",
    "            print('用例通过')\n",
    "        else:\n",
    "            print('用例不通过')\n",
    "\n",
    "\n",
    "if __name__ == '__main__':\n",
    "    run_test()"
   ]
  },
  {
   "cell_type": "code",
   "execution_count": null,
   "metadata": {},
   "outputs": [],
   "source": []
  }
 ],
 "metadata": {
  "kernelspec": {
   "display_name": "Python 3",
   "language": "python",
   "name": "python3"
  },
  "language_info": {
   "codemirror_mode": {
    "name": "ipython",
    "version": 3
   },
   "file_extension": ".py",
   "mimetype": "text/x-python",
   "name": "python",
   "nbconvert_exporter": "python",
   "pygments_lexer": "ipython3",
   "version": "3.6.9"
  },
  "pycharm": {
   "stem_cell": {
    "cell_type": "raw",
    "metadata": {
     "collapsed": false
    },
    "source": []
   }
  }
 },
 "nbformat": 4,
 "nbformat_minor": 1
}
