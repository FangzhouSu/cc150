{
 "cells": [
  {
   "cell_type": "markdown",
   "metadata": {
    "collapsed": true,
    "pycharm": {
     "is_executing": false,
     "name": "#%%\n"
    }
   },
   "source": [
    "## 题目\n",
    "一个有序数组的元素经过循环移动，元素的顺序可能发生变为“3, 4, 5, 6, 7, 1, 2”。怎样才能找出数组中最小的那个元素？假设数组中的元素各不相同。\n",
    "\n",
    "## 注解\n",
    "Follow up:\n",
    "1. 如果元素可能相同"
   ]
  },
  {
   "cell_type": "code",
   "execution_count": 3,
   "metadata": {
    "pycharm": {
     "is_executing": false
    }
   },
   "outputs": [
    {
     "name": "stdout",
     "output_type": "stream",
     "text": [
      "用例通过\n",
      "用例通过\n",
      "用例通过\n",
      "用例通过\n",
      "用例通过\n",
      "用例通过\n",
      "用例通过\n",
      "用例通过\n",
      "用例通过\n"
     ]
    }
   ],
   "source": [
    "# coding=utf-8\n",
    "\n",
    "\n",
    "class Solution:\n",
    "    \n",
    "    def order_min(self, nums):\n",
    "        if nums is None:\n",
    "            return None\n",
    "    \n",
    "        nums_len = len(nums)\n",
    "    \n",
    "        if nums_len == 0:\n",
    "            return None\n",
    "    \n",
    "        if nums_len == 1:\n",
    "            return 0\n",
    "    \n",
    "        start, end = 0, nums_len - 1\n",
    "        mid = int(nums_len / 2)\n",
    "    \n",
    "        while end - start > 1:\n",
    "    \n",
    "            if nums[mid] > nums[end]:\n",
    "                start = mid\n",
    "            else:\n",
    "                end = mid\n",
    "    \n",
    "            mid = int((end + start) / 2)\n",
    "    \n",
    "        if nums[start] > nums[end]:\n",
    "            return end\n",
    "        else:\n",
    "            return start\n",
    "\n",
    "test_case = [\n",
    "    [[], None],\n",
    "    [[1], 0],\n",
    "    [[1, 2], 0],\n",
    "    [[2, 1], 1],\n",
    "    [[1, 2, 3], 0],\n",
    "    [[7, 6, 5, 4, 3, 2, 1], 6],\n",
    "    [[1, 2, 3, 4, 5, 6, 7], 0],\n",
    "    [[3, 4, 5, 6, 7, 1, 2], 5],\n",
    "    [[6, 7, 1, 2, 3, 4, 5], 2]\n",
    "]\n",
    "\n",
    "\n",
    "def run_test():\n",
    "    solution = Solution()\n",
    "    for item in test_case:\n",
    "        if solution.order_min(item[0]) == item[1]:\n",
    "            print('用例通过')\n",
    "        else:\n",
    "            print('用例不通过')\n",
    "            \n",
    "            \n",
    "if __name__ == '__main__':\n",
    "    run_test()"
   ]
  },
  {
   "cell_type": "code",
   "execution_count": null,
   "metadata": {},
   "outputs": [],
   "source": []
  }
 ],
 "metadata": {
  "kernelspec": {
   "display_name": "Python 3",
   "language": "python",
   "name": "python3"
  },
  "language_info": {
   "codemirror_mode": {
    "name": "ipython",
    "version": 3
   },
   "file_extension": ".py",
   "mimetype": "text/x-python",
   "name": "python",
   "nbconvert_exporter": "python",
   "pygments_lexer": "ipython3",
   "version": "3.6.9"
  },
  "pycharm": {
   "stem_cell": {
    "cell_type": "raw",
    "metadata": {
     "collapsed": false
    },
    "source": []
   }
  }
 },
 "nbformat": 4,
 "nbformat_minor": 1
}
