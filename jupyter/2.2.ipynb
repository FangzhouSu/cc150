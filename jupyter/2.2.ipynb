{
 "cells": [
  {
   "cell_type": "markdown",
   "metadata": {
    "collapsed": true,
    "pycharm": {
     "is_executing": false,
     "name": "#%%\n"
    }
   },
   "source": [
    "## 题目\n",
    "实现一个算法，找出单向链表中倒数第k个节点。\n",
    "\n",
    "## 注解\n"
   ]
  },
  {
   "cell_type": "code",
   "execution_count": 7,
   "metadata": {},
   "outputs": [
    {
     "name": "stdout",
     "output_type": "stream",
     "text": [
      "/home/ubuntu/Projects/cc150/jupyter/common\n",
      "通过\n",
      "通过\n",
      "通过\n",
      "通过\n"
     ]
    }
   ],
   "source": [
    "# coding=utf-8\n",
    "\n",
    "import os\n",
    "import sys\n",
    "sys.path.insert(0, os.path.abspath('./common'))\n",
    "\n",
    "from LinkList import LinkList\n",
    "        \n",
    "        \n",
    "class Solution:\n",
    "    \n",
    "    def find_last_k_num(self, head, k):\n",
    "        if head is None:\n",
    "            return None\n",
    "        \n",
    "        counter = 0\n",
    "        slow = fast = head\n",
    "        while counter < k and fast is not None:\n",
    "            fast = fast.next\n",
    "            counter += 1\n",
    "        \n",
    "        # k比链表的长度还大\n",
    "        if counter < k and fast is None:\n",
    "            return None\n",
    "\n",
    "        while fast is not None:\n",
    "            fast = fast.next\n",
    "            slow = slow.next\n",
    "        \n",
    "        return slow\n",
    "    \n",
    "\n",
    "test_case = [\n",
    "    # 注意，k从１开始计数\n",
    "    # [链表内容, k值, 链表中第k个节点的值]\n",
    "    \n",
    "    # 测试空值异常\n",
    "    [[], 0, None],\n",
    "    \n",
    "    # k值异常\n",
    "    [[1, 2], 3, None],\n",
    "    \n",
    "    # 只有一个元素\n",
    "    [[6], 1, 6],\n",
    "    \n",
    "    # 正常情况\n",
    "    [[6, 7, 10, 4, 5], 3, 10]\n",
    "]\n",
    "\n",
    "\n",
    "def run_test():\n",
    "    solution = Solution()\n",
    "    linklist = LinkList()\n",
    "    \n",
    "    for item in test_case:\n",
    "        head = linklist.get_list(item[0])\n",
    "        target = solution.find_last_k_num(head, item[1])\n",
    "        if target is None:\n",
    "            if target == item[2]:\n",
    "                print('通过')\n",
    "            else:\n",
    "                print('不通过')\n",
    "        else:\n",
    "            if target.val == item[2]:\n",
    "                print('通过')\n",
    "            else:\n",
    "                print('不通过')\n",
    "            \n",
    "if __name__ == '__main__':\n",
    "    run_test()"
   ]
  },
  {
   "cell_type": "code",
   "execution_count": null,
   "metadata": {},
   "outputs": [],
   "source": []
  }
 ],
 "metadata": {
  "kernelspec": {
   "display_name": "Python 3",
   "language": "python",
   "name": "python3"
  },
  "language_info": {
   "codemirror_mode": {
    "name": "ipython",
    "version": 3
   },
   "file_extension": ".py",
   "mimetype": "text/x-python",
   "name": "python",
   "nbconvert_exporter": "python",
   "pygments_lexer": "ipython3",
   "version": "3.6.9"
  },
  "pycharm": {
   "stem_cell": {
    "cell_type": "raw",
    "metadata": {
     "collapsed": false
    },
    "source": []
   }
  }
 },
 "nbformat": 4,
 "nbformat_minor": 1
}
