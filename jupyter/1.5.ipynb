{
 "cells": [
  {
   "cell_type": "markdown",
   "metadata": {
    "collapsed": true,
    "pycharm": {
     "is_executing": false,
     "name": "#%%\n"
    }
   },
   "source": [
    "\n",
    "## 题目\n",
    "利用字符重复出现的次数，编写一个方法，实现基本的字符串压缩功能。比如，字符串“aabcccccaa”会变为“a2b1c5a3”。若“压缩”后的字符串没有变短，则返回原先的字符串。\n",
    "\n",
    "## 注解\n",
    "直接模拟即可。"
   ]
  },
  {
   "cell_type": "code",
   "execution_count": 2,
   "metadata": {
    "pycharm": {
     "is_executing": false
    }
   },
   "outputs": [
    {
     "name": "stdout",
     "output_type": "stream",
     "text": [
      "用例通过\n",
      "用例通过\n",
      "用例通过\n",
      "用例通过\n",
      "用例通过\n",
      "用例通过\n",
      "用例通过\n"
     ]
    }
   ],
   "source": [
    "# coding=utf-8\n",
    "\n",
    "\n",
    "class Solution:\n",
    "\n",
    "    def compress_str(self, temp_str):\n",
    "        if temp_str is None or len(temp_str) < 2:\n",
    "            return temp_str\n",
    "\n",
    "        container = {}\n",
    "        result = ''\n",
    "        is_same = True\n",
    "\n",
    "        for item in temp_str:\n",
    "            if item in container:\n",
    "                container[item] += 1\n",
    "            else:\n",
    "                for key, value in container.items():\n",
    "                    result += key + str(value)\n",
    "                    if value > 1:\n",
    "                        is_same = False\n",
    "\n",
    "                container = {}\n",
    "                container[item] = 1\n",
    "\n",
    "        for key, value in container.items():\n",
    "            result += key + str(value)\n",
    "            if value > 1:\n",
    "                is_same = False\n",
    "\n",
    "        if is_same is True:\n",
    "            return temp_str\n",
    "        return result\n",
    "\n",
    "data_provider = [\n",
    "    ['', ''],\n",
    "    ['abcdefg', 'abcdefg'],\n",
    "    ['aabcccccaaa', 'a2b1c5a3'],\n",
    "    ['aaaaaaaaaaaaaa', 'a14'],\n",
    "    ['abcdefghbbbbb', 'a1b1c1d1e1f1g1h1b5'],\n",
    "    ['a', 'a'],\n",
    "    ['ab', 'ab']\n",
    "]\n",
    "\n",
    "\n",
    "\n",
    "def run_test():\n",
    "    solution = Solution()\n",
    "    for value in data_provider:\n",
    "        if solution.compress_str(value[0]) == value[1]:\n",
    "            print('用例通过')\n",
    "        else:\n",
    "            print('用例不通过')\n",
    "\n",
    "            \n",
    "if __name__ == '__main__':\n",
    "    run_test()"
   ]
  },
  {
   "cell_type": "code",
   "execution_count": null,
   "metadata": {},
   "outputs": [],
   "source": []
  }
 ],
 "metadata": {
  "kernelspec": {
   "display_name": "Python 3",
   "language": "python",
   "name": "python3"
  },
  "language_info": {
   "codemirror_mode": {
    "name": "ipython",
    "version": 3
   },
   "file_extension": ".py",
   "mimetype": "text/x-python",
   "name": "python",
   "nbconvert_exporter": "python",
   "pygments_lexer": "ipython3",
   "version": "3.6.9"
  },
  "pycharm": {
   "stem_cell": {
    "cell_type": "raw",
    "metadata": {
     "collapsed": false
    },
    "source": []
   }
  }
 },
 "nbformat": 4,
 "nbformat_minor": 1
}
