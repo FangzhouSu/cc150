{
 "cells": [
  {
   "cell_type": "markdown",
   "metadata": {
    "collapsed": true,
    "pycharm": {
     "is_executing": false,
     "name": "#%%\n"
    }
   },
   "source": [
    "\n",
    "## 题目\n",
    "字符串有三种编辑操作:插入一个字符、删除一个字符或者替换一个字符。给定两个字符串,编写一个函数判定它们是否只需要一次(或者零次)编辑。\n",
    "\n",
    "**示例:**\n",
    "\n",
    "pale, ple -> true\n",
    "\n",
    "pales, pale -> true\n",
    "\n",
    "pale, bale -> true\n",
    "\n",
    "pale, bake -> false\n",
    "\n",
    "## 注解\n",
    "这里可以理解为字符串“减法”。两个字符串“相减”得到两者之间的差异部分（使用git diff的效果）。两个字符串的长度相同时，只能考虑替换。两者长度差一时，对较短的字符串插入一个字符，或者对较长的字符串删除一个字符，都是等价的操作。长度差别超过一个字符的，肯定不符合条件了。\n",
    "\n",
    "针对这两种情况，需要分类讨论。替换的情况，遍历字符串，统计两个字符串中位置(下标相同)相同，但是字符不同的总数。差异字符数不能超过１。删除的情况，最笨的方法是对较长的字符串逐个位置删除一次（暴力求解），然后比较。删掉一个字符以后，两个字符串的长度就相等了，此时问题又化归为替换操作了。整个过程可以尝试这样理解：把两个字符串想象成两个圆环，其中一个圆环旋转一圈。\n",
    "\n",
    "　　"
   ]
  },
  {
   "cell_type": "code",
   "execution_count": 5,
   "metadata": {
    "pycharm": {
     "is_executing": false
    }
   },
   "outputs": [
    {
     "name": "stdout",
     "output_type": "stream",
     "text": [
      "用例通过\n",
      "用例通过\n",
      "用例通过\n",
      "用例通过\n",
      "用例通过\n",
      "用例通过\n",
      "用例通过\n"
     ]
    }
   ],
   "source": [
    "#!/usr/bin/python3\n",
    "# coding=utf-8\n",
    "\n",
    "\n",
    "class Solution:\n",
    "\n",
    "    def is_editable(self, src, dist):\n",
    "        src_len, dist_len = len(src), len(dist)\n",
    "        \n",
    "        diff_len = abs(src_len - dist_len)\n",
    "        if diff_len > 1:\n",
    "            return False\n",
    "        \n",
    "        if diff_len == 1:\n",
    "            if src_len < dist_len:\n",
    "                src, dist = dist, src\n",
    "            return self.is_deleteable(src, dist)\n",
    "        \n",
    "        return self.is_replaceable(src, dist)\n",
    "    \n",
    "    def is_replaceable(self, src, dist):\n",
    "        diff_count = 0\n",
    "        for i in range(0, len(src)):\n",
    "            if src[i] != dist[i]:\n",
    "                diff_count += 1\n",
    "            if diff_count > 1:\n",
    "                return False\n",
    "        return True\n",
    "    \n",
    "    def is_deleteable(self, src, dist):                \n",
    "        for i in range(0, len(src)):\n",
    "            rest_str = src[0:i] + src[i + 1:len(src) - 1]\n",
    "            if self.is_replaceable(rest_str, dist):\n",
    "                return True\n",
    "        \n",
    "        return False\n",
    "        \n",
    "\n",
    "data_provider = [\n",
    "    ['', '', True],\n",
    "    ['pale', 'ple', True],\n",
    "    ['pale', 'pale', True],\n",
    "    ['pales', 'pale', True],\n",
    "    ['pale', 'bale', True],\n",
    "    ['pale', 'bake', False],\n",
    "    ['pale', '', False]\n",
    "]\n",
    "\n",
    "\n",
    "def run_test():\n",
    "    solution = Solution()\n",
    "    for value in data_provider:\n",
    "        if solution.is_editable(value[0], value[1]) == value[2]:\n",
    "            print('用例通过')\n",
    "        else:\n",
    "            print('用例不通过')\n",
    "\n",
    "            \n",
    "if __name__ == '__main__':\n",
    "    run_test()"
   ]
  }
 ],
 "metadata": {
  "kernelspec": {
   "display_name": "Python 3",
   "language": "python",
   "name": "python3"
  },
  "language_info": {
   "codemirror_mode": {
    "name": "ipython",
    "version": 3
   },
   "file_extension": ".py",
   "mimetype": "text/x-python",
   "name": "python",
   "nbconvert_exporter": "python",
   "pygments_lexer": "ipython3",
   "version": "3.6.9"
  },
  "pycharm": {
   "stem_cell": {
    "cell_type": "raw",
    "metadata": {
     "collapsed": false
    },
    "source": []
   }
  }
 },
 "nbformat": 4,
 "nbformat_minor": 1
}
