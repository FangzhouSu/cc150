{
 "cells": [
  {
   "cell_type": "markdown",
   "metadata": {
    "collapsed": true,
    "pycharm": {
     "is_executing": false,
     "name": "#%%\n"
    }
   },
   "source": [
    "## 题目\n",
    "实现一个算法，删除单向链表中间的某个节点，假定你只能访问该节点。\n",
    "\n",
    "示例：\n",
    "\n",
    "输入：单向链表a->b->c->d->e中的节点c。\n",
    "\n",
    "结果：不返回任何数据，但该链表变为：a->b->d->e\n",
    "\n",
    "## 注解\n",
    "\n",
    "链表中间的某个节点，即不用考虑首尾两端。由于只能访问要删除的节点，通过软删除，即将下一个节点的值拷贝到当前节点，然后将当前节点的next指针执行下一个节点的next节点。"
   ]
  },
  {
   "cell_type": "code",
   "execution_count": 1,
   "metadata": {
    "pycharm": {
     "is_executing": false
    }
   },
   "outputs": [
    {
     "name": "stdout",
     "output_type": "stream",
     "text": [
      "通过\n",
      "通过\n",
      "通过\n"
     ]
    }
   ],
   "source": [
    "#!/usr/bin/python3\n",
    "# coding=utf-8\n",
    "\n",
    "import os\n",
    "import sys\n",
    "sys.path.insert(0, os.path.abspath('./common'))\n",
    "\n",
    "from LinkList import LinkList\n",
    "\n",
    "\n",
    "class Solution:\n",
    "    \n",
    "    def remove_link_list_node(self, entry):\n",
    "        if entry is None or entry.next is None:\n",
    "            return False\n",
    "        \n",
    "        entry.val = entry.next.val\n",
    "        entry.next = entry.next.next\n",
    "        \n",
    "        return True\n",
    "    \n",
    "\n",
    "test_case = [\n",
    "    [[1], 1, [1]],\n",
    "    [[1, 2], 2, [1, 2]],\n",
    "    [[1, 2, 3, 4, 5], 4, [1, 2, 3, 5]]\n",
    "]\n",
    "\n",
    "\n",
    "def run_test():\n",
    "    solution = Solution()\n",
    "    linklist = LinkList()\n",
    "    for value in test_case:\n",
    "        # 生成测试数据\n",
    "        head = linklist.get_list(value[0])\n",
    "        node = linklist.get_node_by_value(head, value[1])\n",
    "        \n",
    "        # 调用待测试的函数\n",
    "        solution.remove_link_list_node(node)\n",
    "        data_after_deal = linklist.to_array(head)\n",
    "        if data_after_deal == value[2]:\n",
    "            print('通过')\n",
    "        else:\n",
    "            print('不通过')\n",
    "\n",
    "            \n",
    "if __name__ == '__main__':\n",
    "    run_test()"
   ]
  },
  {
   "cell_type": "code",
   "execution_count": null,
   "metadata": {},
   "outputs": [],
   "source": []
  }
 ],
 "metadata": {
  "kernelspec": {
   "display_name": "Python 3",
   "language": "python",
   "name": "python3"
  },
  "language_info": {
   "codemirror_mode": {
    "name": "ipython",
    "version": 3
   },
   "file_extension": ".py",
   "mimetype": "text/x-python",
   "name": "python",
   "nbconvert_exporter": "python",
   "pygments_lexer": "ipython3",
   "version": "3.6.9"
  },
  "pycharm": {
   "stem_cell": {
    "cell_type": "raw",
    "metadata": {
     "collapsed": false
    },
    "source": []
   }
  }
 },
 "nbformat": 4,
 "nbformat_minor": 1
}
