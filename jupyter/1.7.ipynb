{
 "cells": [
  {
   "cell_type": "markdown",
   "metadata": {
    "collapsed": true,
    "pycharm": {
     "is_executing": false,
     "name": "#%%\n"
    }
   },
   "source": [
    "\n",
    "## 题目\n",
    "编写一个算法，若M x N矩阵中某个元素为0，则将其所在的行与列清零。\n",
    "\n",
    "## 注解\n",
    "首先暴力解，遍历一次矩阵，把0的坐标记忆下来。然后将0所在的行列清零。\n",
    "用一个M x N的矩阵记忆有些浪费空间了。对我们而言，有用的只是（x，y）坐标键值对。可以使用一个二维数组(或者字典、元祖)。\n",
    "\n",
    "这道题还有Follow up\n",
    "\n",
    "*这道题在LeetCode上有。[https://leetcode.com/problems/set-matrix-zeroes/description/](https://leetcode.com/problems/set-matrix-zeroes/description/)*"
   ]
  },
  {
   "cell_type": "code",
   "execution_count": 1,
   "metadata": {
    "pycharm": {
     "is_executing": false
    }
   },
   "outputs": [],
   "source": [
    "# coding=utf-8\n",
    "\n",
    "class Solution(object):\n",
    "    def setZeroes(self, matrix):\n",
    "        \"\"\"\n",
    "        :type matrix: List[List[int]]\n",
    "        :rtype: void Do not return anything, modify matrix in-place instead.\n",
    "        \"\"\"\n",
    "        \n",
    "        row_len = len(matrix)\n",
    "        if row_len == 0:\n",
    "            return\n",
    "        \n",
    "        col_len = len(matrix[0])\n",
    "        if col_len == 0:\n",
    "            return\n",
    "        \n",
    "        row = [0 for i in range(0, col_len)]\n",
    "        col = [0 for i in range(0, row_len)]\n",
    "        \n",
    "        for i in range(0, row_len):\n",
    "            for j in range(0, col_len):\n",
    "                if matrix[i][j] == 0:\n",
    "                    col[i] = row[j] = 1\n",
    "                    \n",
    "        for i in range(0, row_len):\n",
    "            for j in range(0, col_len):\n",
    "                if col[i] or row[j]:\n",
    "                    matrix[i][j] = 0\n",
    "                       \n"
   ]
  }
 ],
 "metadata": {
  "kernelspec": {
   "display_name": "Python 3",
   "language": "python",
   "name": "python3"
  },
  "language_info": {
   "codemirror_mode": {
    "name": "ipython",
    "version": 3
   },
   "file_extension": ".py",
   "mimetype": "text/x-python",
   "name": "python",
   "nbconvert_exporter": "python",
   "pygments_lexer": "ipython3",
   "version": "3.6.9"
  },
  "pycharm": {
   "stem_cell": {
    "cell_type": "raw",
    "metadata": {
     "collapsed": false
    },
    "source": []
   }
  }
 },
 "nbformat": 4,
 "nbformat_minor": 1
}
