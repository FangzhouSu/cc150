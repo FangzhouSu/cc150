{
 "cells": [
  {
   "cell_type": "markdown",
   "metadata": {
    "collapsed": true,
    "pycharm": {
     "is_executing": false,
     "name": "#%%\n"
    }
   },
   "source": [
    "\n",
    "## 题目\n",
    "给定一幅由 N × N 矩阵表示的图像,其中每个像素的大小为 4 字节,编写一种方法,将图像旋转 90 度。不占用额外内存空间能否做到?\n",
    "\n",
    "## 注解\n",
    "想象一下一个魔方的一个面被旋转了九十度：上面的那条边到了右面，右面的那条边到了下面，下面的那条边到了左面，而左面的那条边到了上面。由于N × N矩阵是对称的，所以遍历一半的就可以了。这里以上下边为操作的边，一圈一圈的旋转，是比较节省空间的操作。为了简单起见，直接复制到一个同等大小的新矩阵。"
   ]
  },
  {
   "cell_type": "code",
   "execution_count": 1,
   "metadata": {
    "pycharm": {
     "is_executing": false
    }
   },
   "outputs": [],
   "source": [
    "#!/usr/bin/python3\n",
    "# coding=utf-8\n",
    "\n",
    "\n",
    "class Solution:\n",
    "    \n",
    "    def rotate_matrix(self, matrix):\n",
    "        matrix_size = len(matrix)\n",
    "        if matrix_size < 2:\n",
    "            return matrix      \n",
    "        \n",
    "        \n",
    "        pass\n",
    "    \n",
    "\n",
    "test_case = [\n",
    "    [[], []],\n",
    "    [[1], [1]],\n",
    "    [\n",
    "        [\n",
    "            [1, 2],\n",
    "            [4, 3]\n",
    "        ],\n",
    "        [\n",
    "            [4, 1],\n",
    "            [3, 2]\n",
    "        ]\n",
    "    ]\n",
    "]\n",
    "\n",
    "\n",
    "def run_test():\n",
    "    solution = Solution()\n",
    "    for value in test_case:\n",
    "        if solution.rotate_matrix(value[0]) == value[1]:\n",
    "            print('用例通过')\n",
    "        else:\n",
    "            print('用例不通过')\n",
    "\n",
    "            \n",
    "if __name__ == '__main__':\n",
    "    run_test()"
   ]
  }
 ],
 "metadata": {
  "kernelspec": {
   "display_name": "Python 3",
   "language": "python",
   "name": "python3"
  },
  "language_info": {
   "codemirror_mode": {
    "name": "ipython",
    "version": 3
   },
   "file_extension": ".py",
   "mimetype": "text/x-python",
   "name": "python",
   "nbconvert_exporter": "python",
   "pygments_lexer": "ipython3",
   "version": "3.6.9"
  },
  "pycharm": {
   "stem_cell": {
    "cell_type": "raw",
    "metadata": {
     "collapsed": false
    },
    "source": []
   }
  }
 },
 "nbformat": 4,
 "nbformat_minor": 1
}
