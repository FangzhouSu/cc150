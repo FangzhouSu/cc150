{
 "cells": [
  {
   "cell_type": "markdown",
   "metadata": {
    "collapsed": true,
    "pycharm": {
     "is_executing": false,
     "name": "#%%\n"
    }
   },
   "source": [
    "## 题目\n",
    "给定两个（单向）链表，判定它们是否相交并返回交点。请注意相交的定义基于节点的引用，而不是基于节点的值。换句话说，如果一个链表的第k 个节点与另一个链表的第j 个节点是同一节点（引用完全相同），则这两个链表相交。\n",
    "\n",
    "\n",
    "## 注解\n",
    "链表相交的特点：由于链表是通过next指针将多个节点串起来的，那么每个节点都可以多对一（被多个节点引用为next节点），不能一对多（当前节点只有一个next指针）。相交的点，也就是两个链表如果相交，那么一定是Y形状，而不会是X形状。\n",
    "\n",
    "如果我们能够找到这个交点，那么就能够证明两者是相交的。由于交点是两个链表的公共部分，那么遍历一个链表的同时，在另一个链表中查找是否存在该节点（引用相同）。\n"
   ]
  },
  {
   "cell_type": "code",
   "execution_count": 4,
   "metadata": {
    "pycharm": {
     "is_executing": false
    }
   },
   "outputs": [
    {
     "name": "stdout",
     "output_type": "stream",
     "text": [
      "测试通过\n",
      "测试通过\n",
      "测试通过\n"
     ]
    }
   ],
   "source": [
    "#!/usr/bin/python3\n",
    "# coding=utf-8\n",
    "\n",
    "import os\n",
    "import sys\n",
    "sys.path.insert(0, os.path.abspath('./common'))\n",
    "\n",
    "from LinkList import LinkList\n",
    "\n",
    "class Solution:\n",
    "    \n",
    "    def is_link_list_interset(self, A, B):\n",
    "        # 空的链表不存在交点\n",
    "        if A is None or B is None:\n",
    "            return False\n",
    "        \n",
    "        headA, headB = A, B\n",
    "        while headA is not None:\n",
    "            tempB = headB\n",
    "            while tempB is not None:\n",
    "                if headA == tempB:\n",
    "                    return True\n",
    "                tempB = tempB.next\n",
    "            headA = headA.next\n",
    "        return False\n",
    "    \n",
    "\n",
    "test_case = [\n",
    "    # 链表A的元素，　链表B的元素，　两个链表的交点在链表A的位置（-1表示不相交），　\n",
    "    [[1, 2, 3, 4], [1, 2, 3], 3, True],\n",
    "    [[1, 2, 3, 4], [1, 2, 3], -1, False],\n",
    "    [[1, 2, 3, 4], [], -1, False],\n",
    "]\n",
    "\n",
    "\n",
    "def run_test():\n",
    "    solution = Solution()\n",
    "    linklist = LinkList()\n",
    "    for item in test_case:\n",
    "        A = linklist.get_list(item[0])\n",
    "        B = linklist.get_list(item[1])\n",
    "        if item[2] > 0:\n",
    "            linklist.join_list(A, B, item[2])\n",
    "        ret = solution.is_link_list_interset(A, B)\n",
    "        if ret == item[3]:\n",
    "            print('测试通过')\n",
    "        else:\n",
    "            print('不通过')\n",
    "            \n",
    "if __name__ == '__main__':\n",
    "    run_test()"
   ]
  },
  {
   "cell_type": "code",
   "execution_count": null,
   "metadata": {},
   "outputs": [],
   "source": []
  }
 ],
 "metadata": {
  "kernelspec": {
   "display_name": "Python 3",
   "language": "python",
   "name": "python3"
  },
  "language_info": {
   "codemirror_mode": {
    "name": "ipython",
    "version": 3
   },
   "file_extension": ".py",
   "mimetype": "text/x-python",
   "name": "python",
   "nbconvert_exporter": "python",
   "pygments_lexer": "ipython3",
   "version": "3.6.9"
  },
  "pycharm": {
   "stem_cell": {
    "cell_type": "raw",
    "metadata": {
     "collapsed": false
    },
    "source": []
   }
  }
 },
 "nbformat": 4,
 "nbformat_minor": 1
}
