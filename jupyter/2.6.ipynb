{
 "cells": [
  {
   "cell_type": "markdown",
   "metadata": {
    "collapsed": true,
    "pycharm": {
     "is_executing": false,
     "name": "#%%\n"
    }
   },
   "source": [
    "## 题目\n",
    "给定一个有环链表，实现一个算法返回环路的开头节点。\n",
    "有环链表的定义\n",
    "在链表中某个节点的next元素指向在他面前出现过的节点，则表明该链表存在环路。\n",
    "\n",
    "示例\n",
    "\n",
    "输入：A->B->C->D->E->C（C节点出现了两次）。\n",
    "\n",
    "输出：C\n",
    "\n",
    "## 注解\n"
   ]
  },
  {
   "cell_type": "code",
   "execution_count": 1,
   "metadata": {
    "pycharm": {
     "is_executing": false
    }
   },
   "outputs": [],
   "source": [
    "#!/usr/bin/python3\n",
    "# coding=utf-8\n",
    "\n",
    "\n",
    "class Solution:\n",
    "    \n",
    "    pass\n",
    "    \n",
    "\n",
    "test_case = [\n",
    "    \n",
    "]\n",
    "\n",
    "\n",
    "def run_test():\n",
    "    solution = Solution()        \n",
    "            \n",
    "if __name__ == '__main__':\n",
    "    run_test()"
   ]
  }
 ],
 "metadata": {
  "kernelspec": {
   "display_name": "Python 3",
   "language": "python",
   "name": "python3"
  },
  "language_info": {
   "codemirror_mode": {
    "name": "ipython",
    "version": 3
   },
   "file_extension": ".py",
   "mimetype": "text/x-python",
   "name": "python",
   "nbconvert_exporter": "python",
   "pygments_lexer": "ipython3",
   "version": "3.6.9"
  },
  "pycharm": {
   "stem_cell": {
    "cell_type": "raw",
    "metadata": {
     "collapsed": false
    },
    "source": []
   }
  }
 },
 "nbformat": 4,
 "nbformat_minor": 1
}
