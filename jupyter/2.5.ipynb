{
 "cells": [
  {
   "cell_type": "markdown",
   "metadata": {
    "collapsed": true,
    "pycharm": {
     "is_executing": false,
     "name": "#%%\n"
    }
   },
   "source": [
    "## 题目\n",
    "给定两个用链表表示的整数，每个节点包含一个数位。这些数位是反向存放的，也就是各位排在链表首部。编写函数对这两个整数求和，并用链表形式返回结果。\n",
    "示例\n",
    "输入：(7->1->6)+(5->9->2)，即617+295。\n",
    "输出：2->1->9，即912。\n",
    "\n",
    "进阶：\n",
    "假设这些数位是正向存放的，请再做一遍。\n",
    "示例\n",
    "输入：(6->1->7)+(2->9->5)，即617+295。\n",
    "输出：9->1->2，即912。\n",
    "\n",
    "\n",
    "## 注解\n",
    "\n"
   ]
  },
  {
   "cell_type": "code",
   "execution_count": 1,
   "metadata": {
    "pycharm": {
     "is_executing": false
    }
   },
   "outputs": [],
   "source": [
    "#!/usr/bin/python3\n",
    "# coding=utf-8\n",
    "\n",
    "\n",
    "class Solution:\n",
    "    \n",
    "    pass\n",
    "    \n",
    "\n",
    "test_case = [\n",
    "    \n",
    "]\n",
    "\n",
    "\n",
    "def run_test():\n",
    "    solution = Solution()        \n",
    "            \n",
    "if __name__ == '__main__':\n",
    "    run_test()"
   ]
  }
 ],
 "metadata": {
  "kernelspec": {
   "display_name": "Python 3",
   "language": "python",
   "name": "python3"
  },
  "language_info": {
   "codemirror_mode": {
    "name": "ipython",
    "version": 3
   },
   "file_extension": ".py",
   "mimetype": "text/x-python",
   "name": "python",
   "nbconvert_exporter": "python",
   "pygments_lexer": "ipython3",
   "version": "3.6.9"
  },
  "pycharm": {
   "stem_cell": {
    "cell_type": "raw",
    "metadata": {
     "collapsed": false
    },
    "source": []
   }
  }
 },
 "nbformat": 4,
 "nbformat_minor": 1
}
