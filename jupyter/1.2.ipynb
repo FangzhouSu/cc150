{
 "cells": [
  {
   "cell_type": "markdown",
   "metadata": {
    "collapsed": true,
    "pycharm": {
     "is_executing": false,
     "name": "#%%\n"
    }
   },
   "source": [
    "\n",
    "\n",
    "# 题目\n",
    "用C/C++实现void reverse(char* str)函数，即翻转一个null结尾的字符串。\n",
    "\n",
    "## 注解\n",
    "C/C++中，字符串的null就是'\\0'。翻转字符串，中间向两边移动指针。所到之处，将两个对称位置的指针对应的值互换即可。由于null是最后一个字符，字符串的长度要减一。\n",
    "\n",
    "```c\n",
    "#include <stdio.h>\n",
    "#include <string.h>\n",
    "\n",
    "void reverse(char* str)\n",
    "{\n",
    "    if (str == NULL) {\n",
    "        return;\n",
    "    }\n",
    "\n",
    "    unsigned int len = strlen(str);\n",
    "    if (len <= 1) {\n",
    "        return;\n",
    "    }\n",
    "\n",
    "    unsigned int left = 0, right = len - 1;\n",
    "    char temp = ' ';\n",
    "    for (; left < right;) {\n",
    "        temp = str[left];\n",
    "        str[left] = str[right];\n",
    "        str[right] = temp;\n",
    "        left += 1;\n",
    "        right -= 1;\n",
    "    }\n",
    "}\n",
    "\n",
    "int main()\n",
    "{\n",
    "    char testCase[][12] = {\"\", \"a\", \"ab\", \"abc\", \"abcdefghijk\"};\n",
    "    char answer[][12] = {\"\", \"a\", \"ba\", \"cba\", \"kjihgfedcba\"};\n",
    "\n",
    "    for (int i = 0; i < 5; i++) {\n",
    "        reverse(testCase[i]);\n",
    "        if (strcmp(testCase[i], answer[i]) == 0) {\n",
    "            printf(\"用例通过\\n\");\n",
    "        } else {\n",
    "            printf(\"不通过\\n\");\n",
    "        }\n",
    "    }\n",
    "\n",
    "    return 0;\n",
    "}\n",
    "\n",
    "```"
   ]
  },
  {
   "cell_type": "code",
   "execution_count": 1,
   "metadata": {
    "pycharm": {
     "is_executing": false
    },
    "scrolled": true
   },
   "outputs": [
    {
     "name": "stdout",
     "output_type": "stream",
     "text": [
      "用例通过\n",
      "用例通过\n",
      "用例通过\n",
      "用例通过\n",
      "用例通过\n"
     ]
    }
   ],
   "source": [
    "# coding=utf-8\n",
    "\n",
    "\n",
    "class Solution:\n",
    "\n",
    "    def reverse_string(self, string):\n",
    "        if string is None or len(string) <= 1:\n",
    "            return string\n",
    "        \n",
    "        left, right = 0, len(string) - 1\n",
    "        string = list(string)\n",
    "        while left < right:\n",
    "            string[left], string[right] = string[right], string[left]\n",
    "            left += 1\n",
    "            right -= 1\n",
    "            \n",
    "        return ''.join(string)\n",
    "\n",
    "data_provider = [\n",
    "    ['', ''],\n",
    "    ['a', 'a'],\n",
    "    ['ab', 'ba'],\n",
    "    ['abc', 'cba'],\n",
    "    ['abcdefghijk', 'kjihgfedcba']\n",
    "]\n",
    "\n",
    "\n",
    "def run_test():\n",
    "    solution = Solution()\n",
    "    for value in data_provider:\n",
    "        if solution.reverse_string(value[0]) == value[1]:\n",
    "            print('用例通过')\n",
    "        else:\n",
    "            print('用例不通过')\n",
    "\n",
    "            \n",
    "if __name__ == '__main__':\n",
    "    run_test()"
   ]
  },
  {
   "cell_type": "code",
   "execution_count": 2,
   "metadata": {
    "pycharm": {
     "is_executing": false
    }
   },
   "outputs": [],
   "source": []
  }
 ],
 "metadata": {
  "kernelspec": {
   "display_name": "Python 3",
   "language": "python",
   "name": "python3"
  },
  "language_info": {
   "codemirror_mode": {
    "name": "ipython",
    "version": 3
   },
   "file_extension": ".py",
   "mimetype": "text/x-python",
   "name": "python",
   "nbconvert_exporter": "python",
   "pygments_lexer": "ipython3",
   "version": "3.6.9"
  },
  "pycharm": {
   "stem_cell": {
    "cell_type": "raw",
    "metadata": {
     "collapsed": false
    },
    "source": []
   }
  }
 },
 "nbformat": 4,
 "nbformat_minor": 1
}
