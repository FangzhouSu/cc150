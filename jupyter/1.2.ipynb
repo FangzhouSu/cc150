{
 "cells": [
  {
   "cell_type": "markdown",
   "metadata": {
    "collapsed": true,
    "pycharm": {
     "is_executing": false,
     "name": "#%%\n"
    }
   },
   "source": [
    "\n",
    "## 题目\n",
    "给定两个字符串，请编写程序，确定其中一个字符串的字符重新排列后，能否变成另一个字符串\n",
    "\n",
    "## 注解\n",
    "重新排列，也就是说不考虑顺序。\n",
    "- 不考虑顺序的话，排列就退化成了组合。只需要两个字符串的”成分“相同（用频谱图、特征向量类比合适吗？）即可。也就是所包含的不同字符数量对应相等;\n",
    "- 换用一个角度来看，将题目中给出的两个字符串按同样的方式排序(都按升序)，那么这两个字符应该是相同的;\n",
    "\n",
    "可以把这道题看做是1.1的Follow up。另一方面，如果给出两个符合上述条件的字符串，要多少次操作能将其中一个字符串重排为另一个字符串？"
   ]
  },
  {
   "cell_type": "code",
   "execution_count": 2,
   "metadata": {
    "pycharm": {
     "is_executing": false
    }
   },
   "outputs": [
    {
     "name": "stdout",
     "output_type": "stream",
     "text": [
      "用例通过\n",
      "用例通过\n",
      "用例通过\n",
      "用例通过\n",
      "用例通过\n",
      "用例通过\n",
      "用例通过\n",
      "用例通过\n"
     ]
    }
   ],
   "source": [
    "# coding=utf-8\n",
    "\n",
    "import copy\n",
    "\n",
    "\n",
    "class Solution:\n",
    "    \n",
    "    def judge_by_sort(self, str1, str2):\n",
    "        if str1 is None and str2 is None:\n",
    "            return True\n",
    "        \n",
    "        if str1 is None or str2 is None:\n",
    "            return False\n",
    "        \n",
    "        return ''.join(sorted(str1)) == ''.join(sorted(str2))\n",
    "\n",
    "    def rerangeable(self, str1, str2):\n",
    "\n",
    "        list1, list2 = list(str1), list(str2)\n",
    "\n",
    "        counter1 = [0 for i in range(0, 256)]\n",
    "        counter2 = copy.deepcopy(counter1)\n",
    "\n",
    "        for item in list1:\n",
    "            counter1[ord(item)] += 1\n",
    "\n",
    "        for item in list2:\n",
    "            counter2[ord(item)] += 1\n",
    "\n",
    "        for i in range(0, 256):\n",
    "            if counter1[i] != counter2[i]:\n",
    "                return False\n",
    "\n",
    "        return True\n",
    "\n",
    "\n",
    "data_provider = [\n",
    "    ['', '', True],\n",
    "    ['', 'a', False],\n",
    "    ['a', '', False],\n",
    "    ['abcd', 'a', False],\n",
    "    ['aabbccdd', 'ddccbaba', True],\n",
    "    ['a', 'a', True],\n",
    "    ['abcdefg', 'abcdefg', True],\n",
    "    ['abcddfefddad', 'dfgafsdfdsa', False]\n",
    "]\n",
    "\n",
    "\n",
    "def run_test():\n",
    "    solution = Solution()\n",
    "    for value in data_provider:\n",
    "        if solution.rerangeable(value[0], value[1]) == value[2]:\n",
    "            print('用例通过')\n",
    "        else:\n",
    "            print('用例不通过')\n",
    "            \n",
    "if __name__ == '__main__':\n",
    "    run_test()"
   ]
  },
  {
   "cell_type": "code",
   "execution_count": null,
   "metadata": {},
   "outputs": [],
   "source": []
  }
 ],
 "metadata": {
  "kernelspec": {
   "display_name": "Python 3",
   "language": "python",
   "name": "python3"
  },
  "language_info": {
   "codemirror_mode": {
    "name": "ipython",
    "version": 3
   },
   "file_extension": ".py",
   "mimetype": "text/x-python",
   "name": "python",
   "nbconvert_exporter": "python",
   "pygments_lexer": "ipython3",
   "version": "3.6.9"
  },
  "pycharm": {
   "stem_cell": {
    "cell_type": "raw",
    "metadata": {
     "collapsed": false
    },
    "source": []
   }
  }
 },
 "nbformat": 4,
 "nbformat_minor": 1
}
