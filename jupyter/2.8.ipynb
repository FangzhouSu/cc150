{
 "cells": [
  {
   "cell_type": "markdown",
   "metadata": {
    "collapsed": true,
    "pycharm": {
     "is_executing": false,
     "name": "#%%\n"
    }
   },
   "source": [
    "## 题目\n",
    "给定一个有环链表，实现一个算法返回环路的开头节点。有环链表的定义：在链表中某个节点的next 元素指向在它前面出现过的节点，则表明该链表存在环路。\n",
    "示例：\n",
    "输入：A -> B -> C -> D -> E -> C（C 节点出现了两次）\n",
    "输出：C\n",
    "\n",
    "## 注解\n",
    "这里提供一个简单的实现。如果存在环，那么必然会有一个节点出现两次，而且出现两次的那个节点就是我们要找的环路开头节点。那么我们可以在遍历这个链表的时候记录每个节点出现的频率，如果遍历过程中抵达了尾节点，判断为不存在环。如果有一个几点出现了两次，那么存在环，同时也被找出来了。用哈希表去做频率统计是一个比较直接的方法。但是这个方法存在很大的局限性，如果链表很大，那么内存消耗会很大。\n",
    "\n",
    "通用的方法是根据环的特性来判断。\n",
    "![题解截图](https://raw.githubusercontent.com/panxl6/blog/master/Images/cc150/链表环节点-1.png)\n",
    "![题解截图]()"
   ]
  },
  {
   "cell_type": "code",
   "execution_count": 6,
   "metadata": {},
   "outputs": [
    {
     "name": "stdout",
     "output_type": "stream",
     "text": [
      "测试通过\n",
      "测试通过\n",
      "测试通过\n",
      "测试通过\n"
     ]
    }
   ],
   "source": [
    "#!/usr/bin/python3\n",
    "# coding=utf-8\n",
    "\n",
    "import os\n",
    "import sys\n",
    "sys.path.insert(0, os.path.abspath('./common'))\n",
    "\n",
    "from LinkList import LinkList\n",
    "\n",
    "class Solution:\n",
    "    \n",
    "    def is_exists_loop(self, A):\n",
    "        if A is None:\n",
    "            return None\n",
    "        \n",
    "        countDict = {}        \n",
    "        while A is not None:\n",
    "            if A in countDict:\n",
    "                countDict[A] += 1\n",
    "                if countDict[A] > 1:\n",
    "                    return A.val\n",
    "            else:\n",
    "                countDict[A] = 1\n",
    "            A = A.next\n",
    "        \n",
    "        return None\n",
    "    \n",
    "\n",
    "test_case = [\n",
    "    # 链表A的元素，环的开头节点位置\n",
    "    [[1, 3, 5, 7], -1, None],\n",
    "    [[1, 3, 5, 7, 9, 13], 3, 5],\n",
    "    [[1], -1, None],\n",
    "    [[], -1, None],\n",
    "]\n",
    "\n",
    "\n",
    "def run_test():\n",
    "    solution = Solution()\n",
    "    linklist = LinkList()\n",
    "    for item in test_case:\n",
    "        A = linklist.get_list(item[0])\n",
    "        \n",
    "        if item[1] > 0:\n",
    "            linklist.make_list_cycle(A, item[1])\n",
    "        ret = solution.is_exists_loop(A)\n",
    "        #print(ret)\n",
    "        if ret == item[2]:\n",
    "            print('测试通过')\n",
    "        else:\n",
    "            print('不通过')\n",
    "            \n",
    "if __name__ == '__main__':\n",
    "    run_test()"
   ]
  },
  {
   "cell_type": "code",
   "execution_count": null,
   "metadata": {},
   "outputs": [],
   "source": []
  }
 ],
 "metadata": {
  "kernelspec": {
   "display_name": "Python 3",
   "language": "python",
   "name": "python3"
  },
  "language_info": {
   "codemirror_mode": {
    "name": "ipython",
    "version": 3
   },
   "file_extension": ".py",
   "mimetype": "text/x-python",
   "name": "python",
   "nbconvert_exporter": "python",
   "pygments_lexer": "ipython3",
   "version": "3.6.9"
  },
  "pycharm": {
   "stem_cell": {
    "cell_type": "raw",
    "metadata": {
     "collapsed": false
    },
    "source": []
   }
  }
 },
 "nbformat": 4,
 "nbformat_minor": 1
}