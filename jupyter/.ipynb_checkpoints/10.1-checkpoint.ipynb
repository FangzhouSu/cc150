{
 "cells": [
  {
   "cell_type": "markdown",
   "metadata": {
    "collapsed": true,
    "pycharm": {
     "is_executing": false,
     "name": "#%%\n"
    }
   },
   "source": [
    "## 题目\n",
    "给定两个排序后的数组 A 和 B ,其中 A 的末端有足够的缓冲空间容纳B 。编写一个方法,将 B 合并入 A 并排序。\n",
    "\n",
    "## 注解\n",
    "由于A数组有足够大的空间，所以最后所有的元素都应该放到A数组中。两个数组都是有序的，分别遍历一次就可以将所有元素归并起来。如果从前往后遍历，元素的位置移动变得复杂。这个时候我们使用两个指针从后往前分别在A、B两个数组上遍历，找到比较大的就放到A数组后面的空位上。"
   ]
  },
  {
   "cell_type": "code",
   "execution_count": 1,
   "metadata": {
    "pycharm": {
     "is_executing": false
    }
   },
   "outputs": [
    {
     "name": "stdout",
     "output_type": "stream",
     "text": [
      "测试通过\n",
      "测试通过\n",
      "测试通过\n",
      "测试通过\n",
      "测试通过\n"
     ]
    }
   ],
   "source": [
    "#!/usr/bin/python3\n",
    "# coding=utf-8\n",
    "\n",
    "\n",
    "class Solution:\n",
    "    \n",
    "    def merge(self, A, m, B, n):\n",
    "        indexA, indexB = m-1, n-1\n",
    "        indexMerged = m+n-1\n",
    "        \n",
    "        while indexB >= 0:\n",
    "            if indexA >= 0 and A[indexA] > B[indexB]:\n",
    "                A[indexMerged] = A[indexA]\n",
    "                indexA -= 1\n",
    "            else:\n",
    "                A[indexMerged] = B[indexB]\n",
    "                indexB -= 1\n",
    "            indexMerged -= 1\n",
    "        return A\n",
    "    \n",
    "    pass\n",
    "    \n",
    "\n",
    "test_case = [\n",
    "    # 注意这里的m和n指的是元素的个数，而不是数组的长度\n",
    "    [[1, 0], 1, [], 0, [1, 0]],\n",
    "    [[1, 0], 1, [2], 1, [1, 2]],\n",
    "    [[3, 4, 5, 0, 0], 3, [1, 2], 2, [1, 2, 3, 4, 5]],\n",
    "    [[1,2, 3, 0, 0], 3, [4, 5], 2, [1, 2, 3, 4, 5]],\n",
    "    \n",
    "    [[1,3, 5, 6, 0, 0], 4, [4, 6], 2, [1, 3, 4, 5, 6, 6]],\n",
    "]\n",
    "\n",
    "\n",
    "def run_test():\n",
    "    solution = Solution()\n",
    "    for item in test_case:\n",
    "        if item[4] == solution.merge(item[0], item[1], item[2], item[3]):\n",
    "            print('测试通过')\n",
    "        else:\n",
    "            print('不通过')\n",
    "            \n",
    "if __name__ == '__main__':\n",
    "    run_test()"
   ]
  }
 ],
 "metadata": {
  "kernelspec": {
   "display_name": "Python 3",
   "language": "python",
   "name": "python3"
  },
  "language_info": {
   "codemirror_mode": {
    "name": "ipython",
    "version": 3
   },
   "file_extension": ".py",
   "mimetype": "text/x-python",
   "name": "python",
   "nbconvert_exporter": "python",
   "pygments_lexer": "ipython3",
   "version": "3.6.9"
  },
  "pycharm": {
   "stem_cell": {
    "cell_type": "raw",
    "metadata": {
     "collapsed": false
    },
    "source": []
   }
  }
 },
 "nbformat": 4,
 "nbformat_minor": 1
}
