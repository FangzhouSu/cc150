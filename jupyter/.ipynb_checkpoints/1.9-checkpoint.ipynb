{
 "cells": [
  {
   "cell_type": "markdown",
   "metadata": {
    "collapsed": true,
    "pycharm": {
     "is_executing": false,
     "name": "#%%\n"
    }
   },
   "source": [
    "\n",
    "## 题目\n",
    "假定有一个方法isSubstring，可检查一个单词是否为其他字符串的子串。给定两个字符串s1和s2。请编写代码检查s2是否为s1旋转而成，要求只能调用一次isSubstring。（比如，waterbottle是erbottlewat。）\n",
    "\n",
    "## 题解\n",
    "旋转操作将字符串从“左右”变为”右左“。如果将“右左”扩展为“右左右左”，那么中间的“左右”就是原来字符串。这道题多少有点像智力题，需要一点点“机智”。"
   ]
  },
  {
   "cell_type": "code",
   "execution_count": 1,
   "metadata": {
    "pycharm": {
     "is_executing": false
    }
   },
   "outputs": [
    {
     "name": "stdout",
     "output_type": "stream",
     "text": [
      "用例通过\n",
      "用例通过\n",
      "用例通过\n",
      "用例通过\n",
      "用例通过\n",
      "用例通过\n",
      "用例通过\n"
     ]
    }
   ],
   "source": [
    "#!/usr/bin/python3\n",
    "# coding=utf-8\n",
    "\n",
    "\n",
    "class Solution:\n",
    "\n",
    "    def __is_substring(self, str1, str2):\n",
    "        if str2.find(str1) > -1:\n",
    "            return True\n",
    "        return False\n",
    "\n",
    "    def judge_substring(self, str1, str2):\n",
    "\n",
    "        if len(str1) != len(str2):\n",
    "            return False\n",
    "\n",
    "        return self.__is_substring(str1, str2 + str2)\n",
    "\n",
    "data_provider = [\n",
    "    ['', '', True],\n",
    "    ['a', 'a', True],\n",
    "    ['ab', 'ba', True],\n",
    "    ['abc', 'cab', True],\n",
    "    ['ABCD', 'CDAB', True],\n",
    "    ['waterbottle', 'erbottlewat', True],\n",
    "    ['waterbottle', 'erwatbottle', False]\n",
    "]\n",
    "\n",
    "\n",
    "def run_test():\n",
    "    solution = Solution()\n",
    "    for value in data_provider:\n",
    "        if solution.judge_substring(value[0], value[1]) == value[2]:\n",
    "            print('用例通过')\n",
    "        else:\n",
    "            print('用例不通过')\n",
    "\n",
    "\n",
    "if __name__ == '__main__':\n",
    "    run_test()"
   ]
  },
  {
   "cell_type": "code",
   "execution_count": null,
   "metadata": {},
   "outputs": [],
   "source": []
  }
 ],
 "metadata": {
  "kernelspec": {
   "display_name": "Python 3",
   "language": "python",
   "name": "python3"
  },
  "language_info": {
   "codemirror_mode": {
    "name": "ipython",
    "version": 3
   },
   "file_extension": ".py",
   "mimetype": "text/x-python",
   "name": "python",
   "nbconvert_exporter": "python",
   "pygments_lexer": "ipython3",
   "version": "3.6.9"
  },
  "pycharm": {
   "stem_cell": {
    "cell_type": "raw",
    "metadata": {
     "collapsed": false
    },
    "source": []
   }
  }
 },
 "nbformat": 4,
 "nbformat_minor": 1
}
