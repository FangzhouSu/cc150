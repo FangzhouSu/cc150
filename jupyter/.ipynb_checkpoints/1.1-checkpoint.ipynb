{
 "cells": [
  {
   "cell_type": "markdown",
   "metadata": {
    "collapsed": true,
    "pycharm": {
     "is_executing": false,
     "name": "#%%\n"
    }
   },
   "source": [
    "\n",
    "\n",
    "# 题目\n",
    "实现一个算法，确定一个字符串的所有字符是否全都不同。假使不允许使用额外的数据结构，又该如何处理？\n",
    "\n",
    "## 注解\n",
    "如果可以使用内置的数据结构，那么字典、集合、哈希表是最佳的选择。不能的话就得自己实现一遍。\n",
    "\n",
    "map-reduce的思想来自桶排序（计数排序）\n"
   ]
  },
  {
   "cell_type": "code",
   "execution_count": 3,
   "metadata": {
    "pycharm": {
     "is_executing": false
    }
   },
   "outputs": [
    {
     "name": "stdout",
     "output_type": "stream",
     "text": [
      "通过\n",
      "通过\n",
      "通过\n",
      "通过\n",
      "通过\n",
      "通过\n",
      "通过\n",
      "通过\n"
     ]
    }
   ],
   "source": [
    "# coding=utf-8\n",
    "\n",
    "\n",
    "class Solution:\n",
    "\n",
    "    def has_diff_char(self, temp_str):\n",
    "\n",
    "        if temp_str is None or len(temp_str) == 0:\n",
    "            return False\n",
    "\n",
    "        temp_list = list(temp_str)\n",
    "        hash_container = [0 for i in range(0, 256)]\n",
    "        \n",
    "        for item in temp_list:\n",
    "            hash_container[ord(item)] += 1\n",
    "\n",
    "        for item in hash_container:\n",
    "            if item > 1:\n",
    "                return True\n",
    "\n",
    "        return False\n",
    "\n",
    "    \n",
    "test_case = [\n",
    "    ['', False],\n",
    "    [None, False],\n",
    "    ['abcdef', False],\n",
    "    ['a', False],\n",
    "    ['aaaaaa', True],\n",
    "    ['!@#$%^&*()_+', False],\n",
    "    ['Aa', False],\n",
    "    ['abccdefghdkd', True]\n",
    "]\n",
    "\n",
    "\n",
    "def run_test():\n",
    "    solution = Solution()\n",
    "    for value in test_case:\n",
    "        if solution.has_diff_char(value[0]) == value[1]:\n",
    "            print('通过')\n",
    "        else:\n",
    "            print('不通过')\n",
    "\n",
    "            \n",
    "if __name__ == '__main__':\n",
    "    run_test()"
   ]
  },
  {
   "cell_type": "code",
   "execution_count": 2,
   "metadata": {
    "pycharm": {
     "is_executing": false
    }
   },
   "outputs": [],
   "source": []
  }
 ],
 "metadata": {
  "kernelspec": {
   "display_name": "Python 3",
   "language": "python",
   "name": "python3"
  },
  "language_info": {
   "codemirror_mode": {
    "name": "ipython",
    "version": 3
   },
   "file_extension": ".py",
   "mimetype": "text/x-python",
   "name": "python",
   "nbconvert_exporter": "python",
   "pygments_lexer": "ipython3",
   "version": "3.6.9"
  },
  "pycharm": {
   "stem_cell": {
    "cell_type": "raw",
    "metadata": {
     "collapsed": false
    },
    "source": []
   }
  }
 },
 "nbformat": 4,
 "nbformat_minor": 1
}
