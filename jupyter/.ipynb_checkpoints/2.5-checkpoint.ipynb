{
 "cells": [
  {
   "cell_type": "markdown",
   "metadata": {
    "collapsed": true,
    "pycharm": {
     "is_executing": false,
     "name": "#%%\n"
    }
   },
   "source": [
    "## 题目\n",
    "给定两个用链表表示的整数，每个节点包含一个数位。这些数位是反向存放的，也就是各位排在链表首部。编写函数对这两个整数求和，并用链表形式返回结果。\n",
    "示例\n",
    "输入：(7->1->6)+(5->9->2)，即617+295。\n",
    "输出：2->1->9，即912。\n",
    "\n",
    "进阶：\n",
    "假设这些数位是正向存放的，请再做一遍。\n",
    "示例\n",
    "输入：(6->1->7)+(2->9->5)，即617+295。\n",
    "输出：9->1->2，即912。\n",
    "\n",
    "\n",
    "## 注解\n",
    "整数相加是从最低位开始，满10进一位。链表的保存方式要注意：1) 位的对齐。由于题中是按反向存放的，已经对齐了。2) 进位对下一个位的影响。当前位满10，累加到下一个更高的位。如果下一位不存在，需要动态补充。\n",
    "\n",
    "\n",
    "反向遍历，考虑递归。"
   ]
  },
  {
   "cell_type": "code",
   "execution_count": 28,
   "metadata": {
    "pycharm": {
     "is_executing": false
    }
   },
   "outputs": [
    {
     "name": "stdout",
     "output_type": "stream",
     "text": [
      "通过\n",
      "通过\n",
      "通过\n",
      "通过\n",
      "通过\n"
     ]
    }
   ],
   "source": [
    "#!/usr/bin/python3\n",
    "# coding=utf-8\n",
    "\n",
    "import os\n",
    "import sys\n",
    "sys.path.insert(0, os.path.abspath('./common'))\n",
    "\n",
    "from LinkList import LinkList\n",
    "from LinkList import ListNode\n",
    "\n",
    "\n",
    "class Solution:\n",
    "    \n",
    "    def sum_link_list(self, one, two):\n",
    "        if one is None and two is None:\n",
    "            return None\n",
    "        \n",
    "        if one is None:\n",
    "            return two\n",
    "        if two is None:\n",
    "            return one\n",
    "        \n",
    "        plus = 0\n",
    "        temp = head = ListNode(0)\n",
    "        while True:            \n",
    "            total = plus\n",
    "            if one is not None:\n",
    "                total += one.val\n",
    "                one = one.next\n",
    "            if two is not None:\n",
    "                total += two.val\n",
    "                two = two.next\n",
    "            \n",
    "            if total > 9:\n",
    "                plus = 1\n",
    "                total -= 10\n",
    "            else:\n",
    "                plus = 0\n",
    "            temp.next = ListNode(total)            \n",
    "            temp = temp.next\n",
    "            if one is None and two is None:\n",
    "                break\n",
    "            \n",
    "        if plus == 1:\n",
    "            temp.next = ListNode(1)\n",
    "        return head.next\n",
    "    \n",
    "\n",
    "test_case = [\n",
    "    [[1], [], [1]],\n",
    "    [[], [1], [1]],\n",
    "    [[9], [1], [0, 1]],\n",
    "    [[9], [1, 2, 3, 4], [0, 3, 3, 4]],\n",
    "    [[7, 1, 6], [5, 9, 2], [2, 1, 9]]\n",
    "]\n",
    "\n",
    "\n",
    "def run_test():\n",
    "    solution = Solution()\n",
    "    linklist = LinkList()\n",
    "    for value in test_case:\n",
    "        one = linklist.get_list(value[0])\n",
    "        two = linklist.get_list(value[1])\n",
    "        result = solution.sum_link_list(one, two)\n",
    "        result = linklist.to_array(result)\n",
    "        \n",
    "        if result == value[2]:\n",
    "            print('通过')\n",
    "        else:\n",
    "            print('不通过')\n",
    "            \n",
    "if __name__ == '__main__':\n",
    "    run_test()"
   ]
  }
 ],
 "metadata": {
  "kernelspec": {
   "display_name": "Python 3",
   "language": "python",
   "name": "python3"
  },
  "language_info": {
   "codemirror_mode": {
    "name": "ipython",
    "version": 3
   },
   "file_extension": ".py",
   "mimetype": "text/x-python",
   "name": "python",
   "nbconvert_exporter": "python",
   "pygments_lexer": "ipython3",
   "version": "3.6.9"
  },
  "pycharm": {
   "stem_cell": {
    "cell_type": "raw",
    "metadata": {
     "collapsed": false
    },
    "source": []
   }
  }
 },
 "nbformat": 4,
 "nbformat_minor": 1
}
