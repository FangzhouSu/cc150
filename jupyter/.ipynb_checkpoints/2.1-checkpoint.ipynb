{
 "cells": [
  {
   "cell_type": "markdown",
   "metadata": {
    "collapsed": true,
    "pycharm": {
     "is_executing": false,
     "name": "#%%\n"
    }
   },
   "source": [
    "## 题目\n",
    "编写代码，移除未排序链表中的重复节点。\n",
    "\n",
    "## 注解\n",
    "Follow up:\n",
    "如果不得使用临时缓冲区，该如何解决？\n",
    "\n",
    "**方法一：**\n",
    "\n",
    "使用一个字典(哈希表)，记录重复值进行去重。\n",
    "\n",
    "**方法二：**\n",
    "\n",
    "先排序，然后遍历。如果当前节点跟下一个节点的值相同，删除其中一个重复的节点。官方给出的方法是用双指针。一个指针指向当前节点，另一个指针扫描后面的节点，如果跟第一个指针指向的值相同，将其删除。"
   ]
  },
  {
   "cell_type": "code",
   "execution_count": 4,
   "metadata": {},
   "outputs": [
    {
     "name": "stdout",
     "output_type": "stream",
     "text": [
      "通过\n",
      "通过\n",
      "通过\n",
      "通过\n",
      "通过\n",
      "通过\n",
      "通过\n"
     ]
    }
   ],
   "source": [
    "#!/usr/bin/python3\n",
    "# coding=utf-8\n",
    "\n",
    "import os\n",
    "import sys\n",
    "sys.path.insert(0, os.path.abspath('./common'))\n",
    "\n",
    "from LinkList import LinkList\n",
    "\n",
    "\n",
    "class Solution:\n",
    "    \n",
    "    def __init__(self):\n",
    "        self.unique_dict = {}\n",
    "        \n",
    "    def __is_unique(self, value):\n",
    "        return (value not in self.unique_dict)\n",
    "        \n",
    "    def __tag_element_exist(self, value):\n",
    "        self.unique_dict[value] = 1\n",
    "        \n",
    "    def __remove_link_list_node(self, head):\n",
    "        if head is None or head.next is None:\n",
    "            return head\n",
    "\n",
    "        head.next = head.next.next\n",
    "        return head\n",
    "    \n",
    "    def distinct_link_list(self, head):\n",
    "        if head is None:\n",
    "            return head\n",
    "        \n",
    "        temp = head\n",
    "        self.__tag_element_exist(temp.val)\n",
    "        while temp is not None and temp.next is not None:\n",
    "            if self.__is_unique(temp.next.val):\n",
    "                self.__tag_element_exist(temp.next.val)\n",
    "                temp = temp.next\n",
    "            else:\n",
    "                temp = self.__remove_link_list_node(temp)\n",
    "            \n",
    "        return head\n",
    "    \n",
    "\n",
    "test_case = [\n",
    "    [[], []],\n",
    "    [[1], [1]],\n",
    "    [[1, 1], [1]],\n",
    "    [[1, 1, 1, 1, 1, 1], [1]],\n",
    "    [[1, 1, 2, 3, 4, 5, 5, 1, 3], [1, 2, 3, 4, 5]],\n",
    "    [[1, 2, 3, 4, 5, 5], [1, 2, 3, 4, 5]],\n",
    "    [[1, 2, 3, 4, 5], [1, 2, 3, 4, 5]]\n",
    "]\n",
    "\n",
    "\n",
    "def run_test():\n",
    "    \n",
    "    linklist = LinkList()\n",
    "    for item in test_case:\n",
    "        head = linklist.get_list(item[0])\n",
    "        # 由于用到了全局遍历，每次调用去重方法时都需要初始化一次\n",
    "        solution = Solution()\n",
    "        target = solution.distinct_link_list(head)\n",
    "\n",
    "        if linklist.to_array(target) == item[1]:\n",
    "            print('通过')\n",
    "        else:\n",
    "            print('不通过')\n",
    "\n",
    "            \n",
    "if __name__ == '__main__':\n",
    "    run_test()"
   ]
  },
  {
   "cell_type": "code",
   "execution_count": null,
   "metadata": {},
   "outputs": [],
   "source": []
  }
 ],
 "metadata": {
  "kernelspec": {
   "display_name": "Python 3",
   "language": "python",
   "name": "python3"
  },
  "language_info": {
   "codemirror_mode": {
    "name": "ipython",
    "version": 3
   },
   "file_extension": ".py",
   "mimetype": "text/x-python",
   "name": "python",
   "nbconvert_exporter": "python",
   "pygments_lexer": "ipython3",
   "version": "3.6.9"
  },
  "pycharm": {
   "stem_cell": {
    "cell_type": "raw",
    "metadata": {
     "collapsed": false
    },
    "source": []
   }
  }
 },
 "nbformat": 4,
 "nbformat_minor": 1
}
