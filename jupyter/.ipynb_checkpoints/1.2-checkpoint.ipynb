{
 "cells": [
  {
   "cell_type": "markdown",
   "metadata": {
    "collapsed": true,
    "pycharm": {
     "is_executing": false,
     "name": "#%%\n"
    }
   },
   "source": [
    "\n",
    "\n",
    "# 题目\n",
    "用C/C++实现void reverse(char* str)函数，即翻转一个null结尾的字符串。\n",
    "\n",
    "## 注解\n",
    "C/C++中，字符串的null就是'\\0'。翻转字符串，中间向两边移动指针。所到之处，将两个对称位置的指针对应的值互换即可。由于null是最后一个字符，字符串的长度要减一。"
   ]
  },
  {
   "cell_type": "code",
   "execution_count": 1,
   "metadata": {
    "pycharm": {
     "is_executing": false
    },
    "scrolled": true
   },
   "outputs": [
    {
     "name": "stdout",
     "output_type": "stream",
     "text": [
      "翻转前: \n",
      "翻转后: \n",
      "\n",
      "翻转前: a\n",
      "翻转后: a\n",
      "\n",
      "翻转前: ab\n",
      "翻转后: ba\n",
      "\n",
      "翻转前: abc\n",
      "翻转后: cba\n",
      "\n",
      "翻转前: abcdefghijk\n",
      "翻转后: kjihgfedcba\n",
      "\n"
     ]
    }
   ],
   "source": [
    "#include <stdio.h>\n",
    "#include <string.h>\n",
    "\n",
    "void reverse(char* str)\n",
    "{\n",
    "    if (str == NULL) {\n",
    "        return;\n",
    "    }\n",
    "\n",
    "    unsigned int len = strlen(str);\n",
    "    if (len <= 1) {\n",
    "        return;\n",
    "    }\n",
    "\n",
    "    unsigned int left = 0, right = len - 1;\n",
    "    char temp = ' ';\n",
    "    for (; left < right;) {\n",
    "        temp = str[left];\n",
    "        str[left] = str[right];\n",
    "        str[right] = temp;\n",
    "        left += 1;\n",
    "        right -= 1;\n",
    "    }\n",
    "}\n",
    "\n",
    "int main()\n",
    "{\n",
    "    char testCase[][12] = {\"\", \"a\", \"ab\", \"abc\", \"abcdefghijk\"};\n",
    "\n",
    "    for (int i = 0; i < 5; i++) {\n",
    "        printf(\"翻转前: %s\\n\", testCase[i]);\n",
    "        reverse(testCase[i]);\n",
    "        printf(\"翻转后: %s\\n\\n\", testCase[i]);\n",
    "    }\n",
    "\n",
    "    return 0;\n",
    "}\n"
   ]
  },
  {
   "cell_type": "code",
   "execution_count": 2,
   "metadata": {
    "pycharm": {
     "is_executing": false
    }
   },
   "outputs": [],
   "source": []
  }
 ],
 "metadata": {
  "kernelspec": {
   "display_name": "C",
   "language": "c",
   "name": "c"
  },
  "language_info": {
   "file_extension": ".c",
   "mimetype": "text/plain",
   "name": "c"
  },
  "pycharm": {
   "stem_cell": {
    "cell_type": "raw",
    "metadata": {
     "collapsed": false
    },
    "source": []
   }
  }
 },
 "nbformat": 4,
 "nbformat_minor": 1
}
