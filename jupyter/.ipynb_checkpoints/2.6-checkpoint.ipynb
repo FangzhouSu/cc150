{
 "cells": [
  {
   "cell_type": "markdown",
   "metadata": {
    "collapsed": true,
    "pycharm": {
     "is_executing": false,
     "name": "#%%\n"
    }
   },
   "source": [
    "## 题目\n",
    "编写一个函数，检查链表是否为回文。\n",
    "\n",
    "\n",
    "## 注解\n",
    "回文的定义就是从尾到头，跟从头到尾遍历打印的字符串是相同的。用数组的角度来看，就是基于对称中心对称(i-1的值跟i+1的值相等)。2.2题介绍了如何”返回倒数第k个节点“。正向第k个节点是比较容易找到的。两个步骤结合在一起就可以遍历了。\n",
    "\n",
    "如果不使用这个方法，可以考虑使用递归反向遍历一个链表。"
   ]
  },
  {
   "cell_type": "code",
   "execution_count": 2,
   "metadata": {
    "pycharm": {
     "is_executing": false
    }
   },
   "outputs": [
    {
     "name": "stdout",
     "output_type": "stream",
     "text": [
      "通过\n",
      "通过\n",
      "通过\n",
      "通过\n",
      "通过\n",
      "通过\n"
     ]
    }
   ],
   "source": [
    "#!/usr/bin/python3\n",
    "# coding=utf-8\n",
    "\n",
    "\n",
    "import os\n",
    "import sys\n",
    "sys.path.insert(0, os.path.abspath('./common'))\n",
    "\n",
    "from LinkList import LinkList\n",
    "from LinkList import ListNode\n",
    "\n",
    "\n",
    "class Result:\n",
    "    \n",
    "    def __init__(self, node, result):\n",
    "        self.node = node\n",
    "        self.result = result\n",
    "\n",
    "\n",
    "class Solution:\n",
    "    \n",
    "    def is_plalindrome(self, head):\n",
    "        linklist = LinkList()\n",
    "        list_length = linklist.get_list_length(head)\n",
    "        result = self.__is_plalindrome(head, list_length)\n",
    "        \n",
    "        return result.result\n",
    "    \n",
    "    def __is_plalindrome(self, head, length):\n",
    "        if head is None or length <= 0:\n",
    "            return Result(head, True)\n",
    "        elif length == 1:\n",
    "            return Result(head.next, True)\n",
    "        \n",
    "        result = self.__is_plalindrome(head.next, length - 2)\n",
    "        if result.result == False or result.node == None:\n",
    "            return result\n",
    "        \n",
    "        result.result = (head.val == result.node.val)\n",
    "        result.node = result.node.next;\n",
    "        return result\n",
    "    \n",
    "\n",
    "test_case = [\n",
    "    [[], True],\n",
    "    [[1], True],\n",
    "    [[1, 2], False],\n",
    "    [[1, 2, 1], True],\n",
    "    [[1, 2, 3, 4, 5], False],\n",
    "    [[1, 2, 3, 4, 5, 5, 4, 3, 2, 1], True],\n",
    "]\n",
    "\n",
    "\n",
    "def run_test():\n",
    "    solution = Solution()\n",
    "    linklist = LinkList()\n",
    "    for value in test_case:\n",
    "        head = linklist.get_list(value[0])\n",
    "        result = solution.is_plalindrome(head)\n",
    "        \n",
    "        if result == value[1]:\n",
    "            print('通过')\n",
    "        else:\n",
    "            print('不通过')\n",
    "            \n",
    "if __name__ == '__main__':\n",
    "    run_test()"
   ]
  },
  {
   "cell_type": "code",
   "execution_count": null,
   "metadata": {},
   "outputs": [],
   "source": []
  }
 ],
 "metadata": {
  "kernelspec": {
   "display_name": "Python 3",
   "language": "python",
   "name": "python3"
  },
  "language_info": {
   "codemirror_mode": {
    "name": "ipython",
    "version": 3
   },
   "file_extension": ".py",
   "mimetype": "text/x-python",
   "name": "python",
   "nbconvert_exporter": "python",
   "pygments_lexer": "ipython3",
   "version": "3.6.9"
  },
  "pycharm": {
   "stem_cell": {
    "cell_type": "raw",
    "metadata": {
     "collapsed": false
    },
    "source": []
   }
  }
 },
 "nbformat": 4,
 "nbformat_minor": 1
}
