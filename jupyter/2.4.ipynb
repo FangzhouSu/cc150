{
 "cells": [
  {
   "cell_type": "markdown",
   "metadata": {
    "collapsed": true,
    "pycharm": {
     "is_executing": false,
     "name": "#%%\n"
    }
   },
   "source": [
    "## 题目\n",
    "编写代码，以给定值x为基准将链表分割成两部分，所有小于x的节点排在大于或等于x的节点之前。\n",
    "\n",
    "## 注解\n",
    "**方法二：**\n",
    "\n",
    "遍历链表，调整指针的指向。比基准值小的拼接到前面，比基准值大或者相等的节点拼接到后面。\n",
    "\n",
    "**方法一：**\n",
    "\n",
    "将链表按升序排序，那么x自然将链表分割为两部分。\n",
    "\n",
    "\n"
   ]
  },
  {
   "cell_type": "code",
   "execution_count": null,
   "metadata": {
    "pycharm": {
     "is_executing": false
    }
   },
   "outputs": [],
   "source": [
    "#!/usr/bin/python3\n",
    "# coding=utf-8\n",
    "\n",
    "import os\n",
    "import sys\n",
    "sys.path.insert(0, os.path.abspath('./common'))\n",
    "\n",
    "from LinkList import LinkList, ListNode\n",
    "\n",
    "\n",
    "class Solution:\n",
    "    \n",
    "    def partition_list(self, head, target):\n",
    "        if head is None:\n",
    "            return head\n",
    "\n",
    "        isFirst = True\n",
    "        leftHead = rightNode = ListNode(target)\n",
    "        while head is not None:\n",
    "            if head.val < target:\n",
    "                temp = head\n",
    "                head = head.next\n",
    "                temp.next = leftHead\n",
    "                leftHead = temp\n",
    "            else:\n",
    "                # 因为leftHead跟rightHead初始化的时候，已经有一个target元素了\n",
    "                if isFirst:\n",
    "                    isFirst = False\n",
    "                    head = head.next\n",
    "                    continue\n",
    "                temp = head\n",
    "                head = head.next\n",
    "                temp.next = None\n",
    "                rightNode.next = temp\n",
    "                rightNode = rightNode.next\n",
    "            \n",
    "        return leftHead\n",
    "\n",
    "test_case = [\n",
    "    [[1, 2, 1, 3, 7, 2, 3]]\n",
    "]\n",
    "\n",
    "\n",
    "def run_test():\n",
    "    solution = Solution()\n",
    "    linklist = LinkList()\n",
    "    head = linklist.get_list(test_case[0][0])\n",
    "    temp = solution.partition_list(head, 3)\n",
    "    linklist.print_list(temp)\n",
    "            \n",
    "if __name__ == '__main__':\n",
    "    run_test()\n"
   ]
  },
  {
   "cell_type": "code",
   "execution_count": null,
   "metadata": {},
   "outputs": [],
   "source": []
  }
 ],
 "metadata": {
  "kernelspec": {
   "display_name": "Python 3",
   "language": "python",
   "name": "python3"
  },
  "language_info": {
   "codemirror_mode": {
    "name": "ipython",
    "version": 3
   },
   "file_extension": ".py",
   "mimetype": "text/x-python",
   "name": "python",
   "nbconvert_exporter": "python",
   "pygments_lexer": "ipython3",
   "version": "3.6.9"
  },
  "pycharm": {
   "stem_cell": {
    "cell_type": "raw",
    "metadata": {
     "collapsed": false
    },
    "source": []
   }
  }
 },
 "nbformat": 4,
 "nbformat_minor": 1
}
